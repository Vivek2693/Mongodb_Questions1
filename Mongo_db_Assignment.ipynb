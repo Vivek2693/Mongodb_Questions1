{
 "cells": [
  {
   "cell_type": "markdown",
   "id": "aca91e32",
   "metadata": {},
   "source": [
    "### Q1. What is MongoDB? Explain non-relational databases in short. In which scenarios it is preferred to use MongoDB over SQL databases?\n",
    "\n",
    "A1. MongoDB is a popular open-source NoS### QL database that stores data in flexible, JSON-like documents. It is a document-oriented database, meaning it stores data in collections of JSON-like documents rather than in tables with rows and columns like traditional SQL databases.\n",
    "\n",
    "Non-relational databases, also known as NoS### QL databases, differ from traditional S### QL databases in several ways:\n",
    "\n",
    "They do not re### Quire a fixed schema, allowing for flexibility in data representation.\n",
    "They can handle semi-structured and unstructured data more efficiently.\n",
    "They often provide horizontal scalability, allowing for easy scaling across multiple servers.\n",
    "MongoDB is preferred over S### QL databases in scenarios where:\n",
    "\n",
    "Flexibility in schema design is re### Quired, such as with rapidly evolving data models.\n",
    "Scalability and performance are crucial, especially for handling large volumes of unstructured data.\n",
    "Agile development methodologies are used, where fre### Quent changes to the data model are common.\n",
    "### Q2. State and Explain the features of MongoDB.\n",
    "\n",
    "A2. MongoDB offers several features that make it a popular choice for modern applications:\n",
    "\n",
    "Document-Oriented: Data is stored in flexible, JSON-like documents called BSON (Binary JSON).\n",
    "Ad Hoc ### Queries: MongoDB supports dynamic  Queries on documents using a rich ### Query language.\n",
    "Indexing: Indexes can be created to improve  Query performance.\n",
    "Replication: MongoDB provides high availability through replica sets, which maintain multiple copies of data across different servers.\n",
    "Horizontal Scalability: It supports sharding, allowing data to be distributed across multiple servers for horizontal scaling.\n",
    "Aggregation: MongoDB provides powerful aggregation framework for data aggregation and analysis.\n",
    "Schema-less: It allows for dynamic and flexible schema design, accommodating changes to data structures without downtime.\n",
    "GridFS: MongoDB can store large files and binary data with GridFS, which divides files into smaller chunks for efficient storage and retrieval."
   ]
  },
  {
   "cell_type": "markdown",
   "id": "86081a14",
   "metadata": {},
   "source": [
    "### Q3. Write a code to connect MongoDB to Python. Also, create a database and a collection in MongoDB."
   ]
  },
  {
   "cell_type": "code",
   "execution_count": null,
   "id": "b3c89caf",
   "metadata": {},
   "outputs": [],
   "source": [
    "import pymongo\n",
    "\n",
    "# Connect to MongoDB server\n",
    "client = pymongo.MongoClient(\"mongodb://localhost:27017/\")\n",
    "\n",
    "# Create or access a database\n",
    "mydb = client[\"mydatabase\"]\n",
    "\n",
    "# Create or access a collection\n",
    "mycol = mydb[\"customers\"]\n"
   ]
  },
  {
   "cell_type": "markdown",
   "id": "06b93b9b",
   "metadata": {},
   "source": [
    "### Q4. Using the database and the collection created in question number 3, write a code to insert one record, and insert many records. Use the find() and find_one() methods to print the inserted record."
   ]
  },
  {
   "cell_type": "code",
   "execution_count": 2,
   "id": "12be646d",
   "metadata": {},
   "outputs": [
    {
     "ename": "NameError",
     "evalue": "name 'mycol' is not defined",
     "output_type": "error",
     "traceback": [
      "\u001b[1;31m---------------------------------------------------------------------------\u001b[0m",
      "\u001b[1;31mNameError\u001b[0m                                 Traceback (most recent call last)",
      "Cell \u001b[1;32mIn[2], line 3\u001b[0m\n\u001b[0;32m      1\u001b[0m \u001b[38;5;66;03m# Insert one record\u001b[39;00m\n\u001b[0;32m      2\u001b[0m mydict \u001b[38;5;241m=\u001b[39m {\u001b[38;5;124m\"\u001b[39m\u001b[38;5;124mname\u001b[39m\u001b[38;5;124m\"\u001b[39m: \u001b[38;5;124m\"\u001b[39m\u001b[38;5;124mJohn\u001b[39m\u001b[38;5;124m\"\u001b[39m, \u001b[38;5;124m\"\u001b[39m\u001b[38;5;124maddress\u001b[39m\u001b[38;5;124m\"\u001b[39m: \u001b[38;5;124m\"\u001b[39m\u001b[38;5;124mHighway 37\u001b[39m\u001b[38;5;124m\"\u001b[39m}\n\u001b[1;32m----> 3\u001b[0m x \u001b[38;5;241m=\u001b[39m \u001b[43mmycol\u001b[49m\u001b[38;5;241m.\u001b[39minsert_one(mydict)\n\u001b[0;32m      4\u001b[0m \u001b[38;5;28mprint\u001b[39m(x\u001b[38;5;241m.\u001b[39minserted_id)\n\u001b[0;32m      6\u001b[0m \u001b[38;5;66;03m# Insert many records\u001b[39;00m\n",
      "\u001b[1;31mNameError\u001b[0m: name 'mycol' is not defined"
     ]
    }
   ],
   "source": [
    "# Insert one record\n",
    "mydict = {\"name\": \"John\", \"address\": \"Highway 37\"}\n",
    "x = mycol.insert_one(mydict)\n",
    "print(x.inserted_id)\n",
    "\n",
    "# Insert many records\n",
    "mylist = [\n",
    "    {\"name\": \"Peter\", \"address\": \"Lowstreet 27\"},\n",
    "    {\"name\": \"Amy\", \"address\": \"Apple st 652\"},\n",
    "    {\"name\": \"Hannah\", \"address\": \"Mountain 21\"},\n",
    "    {\"name\": \"Michael\", \"address\": \"Valley 345\"},\n",
    "    {\"name\": \"Sandy\", \"address\": \"Ocean blvd 2\"},\n",
    "    {\"name\": \"Betty\", \"address\": \"Green Grass 1\"},\n",
    "    {\"name\": \"Richard\", \"address\": \"Sky st 331\"},\n",
    "    {\"name\": \"Susan\", \"address\": \"One way 98\"},\n",
    "    {\"name\": \"Vicky\", \"address\": \"Yellow Garden 2\"},\n",
    "    {\"name\": \"Ben\", \"address\": \"Park Lane 38\"},\n",
    "    {\"name\": \"William\", \"address\": \"Central st 954\"},\n",
    "    {\"name\": \"Chuck\", \"address\": \"Main Road 989\"},\n",
    "    {\"name\": \"Viola\", \"address\": \"Sideway 1633\"}\n",
    "]\n",
    "x = mycol.insert_many(mylist)\n",
    "print(x.inserted_ids)\n",
    "\n",
    "# Print inserted records\n",
    "print(mycol.find_one())\n",
    "for record in mycol.find():\n",
    "    print(record)\n"
   ]
  },
  {
   "cell_type": "markdown",
   "id": "403c35d9",
   "metadata": {},
   "source": [
    "### Q5. Explain how you can use the find() method to query the MongoDB database. Write a simple code to demonstrate this."
   ]
  },
  {
   "cell_type": "markdown",
   "id": "62710cbd",
   "metadata": {},
   "source": [
    "A5. The find() method in MongoDB is used to query documents in a collection. It returns a cursor object that can be iterated to retrieve documents matching the query criteria."
   ]
  },
  {
   "cell_type": "code",
   "execution_count": null,
   "id": "fb5833ce",
   "metadata": {},
   "outputs": [],
   "source": [
    "# Query documents in the collection\n",
    "for document in mycol.find({\"name\": \"John\"}):\n",
    "    print(document)\n"
   ]
  },
  {
   "cell_type": "markdown",
   "id": "017ef28a",
   "metadata": {},
   "source": [
    "This code queries the collection for documents where the \"name\" field is equal to \"John\" and prints the matching documents."
   ]
  },
  {
   "cell_type": "markdown",
   "id": "89ea98b4",
   "metadata": {},
   "source": [
    "### Q6. Explain the sort() method. Give an example to demonstrate sorting in MongoDB.\n",
    "\n",
    "A6. The sort() method in MongoDB is used to sort the documents in a collection based on the specified field(s)."
   ]
  },
  {
   "cell_type": "code",
   "execution_count": null,
   "id": "a067524c",
   "metadata": {},
   "outputs": [],
   "source": [
    "# Sort documents in the collection by the \"name\" field in ascending order\n",
    "result = mycol.find().sort(\"name\")\n",
    "for document in result:\n",
    "    print(document)\n",
    "\n",
    "# Sort documents in the collection by the \"name\" field in descending order\n",
    "result = mycol.find().sort(\"name\", -1)\n",
    "for document in result:\n",
    "    print(document)\n"
   ]
  },
  {
   "cell_type": "markdown",
   "id": "089e61d9",
   "metadata": {},
   "source": [
    "This code sorts the documents in the collection by the \"name\" field, first in ascending order and then in descending order."
   ]
  },
  {
   "cell_type": "markdown",
   "id": "049dfe9c",
   "metadata": {},
   "source": [
    "### Q7. Explain why delete_one(), delete_many(), and drop() is used.\n"
   ]
  },
  {
   "cell_type": "markdown",
   "id": "8059195e",
   "metadata": {},
   "source": [
    "\n",
    "A7.\n",
    "\n",
    "delete_one(): This method is used to delete a single document that matches the specified filter criteria from the collection.\n",
    "\n",
    "delete_many(): This method is used to delete multiple documents that match the specified filter criteria from the collection.\n",
    "\n",
    "drop(): This method is used to delete an entire collection from the database.\n",
    "\n",
    "These methods are used to remove documents or collections from the database when they are no longer needed or when data needs to be cleaned up. \n",
    "delete_one() and delete_many() are used to selectively remove documents based on specified criteria, while drop() is used to remove an entire collection, including all its documents.\n",
    "\n",
    "\n",
    "\n",
    "\n",
    "\n"
   ]
  },
  {
   "cell_type": "code",
   "execution_count": null,
   "id": "97239120",
   "metadata": {},
   "outputs": [],
   "source": []
  }
 ],
 "metadata": {
  "kernelspec": {
   "display_name": "Python 3 (ipykernel)",
   "language": "python",
   "name": "python3"
  },
  "language_info": {
   "codemirror_mode": {
    "name": "ipython",
    "version": 3
   },
   "file_extension": ".py",
   "mimetype": "text/x-python",
   "name": "python",
   "nbconvert_exporter": "python",
   "pygments_lexer": "ipython3",
   "version": "3.10.9"
  }
 },
 "nbformat": 4,
 "nbformat_minor": 5
}
